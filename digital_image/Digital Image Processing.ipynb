{
 "cells": [
  {
   "cell_type": "markdown",
   "id": "428147ad",
   "metadata": {},
   "source": [
    "# Intensity Transformations and Spatial Filtering"
   ]
  },
  {
   "cell_type": "markdown",
   "id": "cc7de766",
   "metadata": {},
   "source": [
    "## Intensity transformation functions"
   ]
  },
  {
   "cell_type": "markdown",
   "id": "fda6645e",
   "metadata": {},
   "source": [
    "### Image negatives"
   ]
  },
  {
   "cell_type": "markdown",
   "id": "5814758b",
   "metadata": {},
   "source": [
    "### Log transformations"
   ]
  },
  {
   "cell_type": "markdown",
   "id": "18d6c5cd",
   "metadata": {},
   "source": [
    "### Power-law (gamma) transformations"
   ]
  },
  {
   "cell_type": "markdown",
   "id": "cb032b1c",
   "metadata": {},
   "source": [
    "### Picewise linear transformation functions"
   ]
  },
  {
   "cell_type": "markdown",
   "id": "ad773c4e",
   "metadata": {},
   "source": [
    "## Histogram processing"
   ]
  }
 ],
 "metadata": {
  "language_info": {
   "name": "python"
  }
 },
 "nbformat": 4,
 "nbformat_minor": 5
}
